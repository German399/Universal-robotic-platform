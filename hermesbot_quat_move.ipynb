{
 "cells": [
  {
   "cell_type": "markdown",
   "id": "4c170124-681a-4879-8c4e-1f771991480d",
   "metadata": {},
   "source": [
    "# Here I try to implement quaternion transforms to the pipeline"
   ]
  },
  {
   "cell_type": "code",
   "execution_count": 14,
   "id": "0e4e2773-d18b-4f2b-bf4b-944a76099fa3",
   "metadata": {},
   "outputs": [],
   "source": [
    "import slampy\n",
    "import cv2\n",
    "import numpy as np\n",
    "from utils import *\n",
    "import pandas as pd\n",
    "import matplotlib.pyplot as plt\n",
    "import time\n",
    "import os\n",
    "import rosbag\n",
    "import numpy as np\n",
    "from IPython.display import clear_output, display\n",
    "from tqdm.notebook import tqdm\n",
    "from scipy.spatial.transform import Rotation as R\n",
    "%matplotlib inline"
   ]
  },
  {
   "cell_type": "code",
   "execution_count": 15,
   "id": "e8233f38-1d03-4627-b27c-41140165bf3b",
   "metadata": {},
   "outputs": [],
   "source": [
    "setting_file ='settings.yaml'"
   ]
  },
  {
   "cell_type": "code",
   "execution_count": 16,
   "id": "e5d7b801-ca46-4659-8a70-f7869ddf20b3",
   "metadata": {},
   "outputs": [],
   "source": [
    "from numpy import sin, cos, pi\n",
    "# Shift vectors from camera to robot center\n",
    "shift_vecs = [\n",
    "    np.array([-37.477 / 100, 7.778 / 100, 0]),\n",
    "    np.array([-37.477 / 100, -7.778 / 100, 0]),\n",
    "    np.array([-21. / 100, 0, 0]),\n",
    "    np.array([-37.477 / 100, 7.778 / 100, 0]),\n",
    "    np.array([-37.477 / 100, -7.778 / 100, 0]),\n",
    "    np.array([-21. / 100, 0, 0])\n",
    "]\n",
    "# Rotation quaternions from camera to lidar frame\n",
    "rot_quats = [\n",
    "    R.from_quat([0, 0, sin(-pi/8), cos(-pi/8)]),\n",
    "    R.from_quat([0, 0, sin(pi/8), cos(pi/8)]),\n",
    "    R.from_quat([0, 0, sin(pi/4), cos(pi/4)]),\n",
    "    R.from_quat([0, 0, sin(3*pi/8), cos(3*pi/8)]),\n",
    "    R.from_quat([0, 0, sin(-3*pi/8), cos(-3*pi/8)]),\n",
    "    R.from_quat([0, 0, sin(-pi/4), cos(-pi/4)])\n",
    "]"
   ]
  },
  {
   "cell_type": "code",
   "execution_count": 17,
   "id": "505176b4-6d81-41fd-9f31-739cab5ed52d",
   "metadata": {},
   "outputs": [],
   "source": [
    "# Calculate position and orientation of robot given the pos and orientation of single camera\n",
    "def calc_robot_position(sv, rq, cam_num, pos, quat):\n",
    "    robot_shift_vec = quat.apply(sv[cam_num])\n",
    "    new_quat = quat * rq[cam_num]\n",
    "    robot_pos = pos + robot_shift_vec\n",
    "    return robot_pos, new_quat\n",
    "\n",
    "# Calculate position and orientation of any camera given the pos and orientation of robot\n",
    "def calc_cam_position(sv, rq, cam_num, pos, quat):\n",
    "    new_quat = rq[cam_num].inv() * quat\n",
    "    cam_shift_vec = new_quat.apply(sv[cam_num])\n",
    "    cam_pos = pos - cam_shift_vec\n",
    "    # cam_pos = pos\n",
    "    return cam_pos, new_quat"
   ]
  },
  {
   "cell_type": "code",
   "execution_count": 18,
   "id": "36aab9f8-8fb7-44f3-a51d-35ac76cf547c",
   "metadata": {},
   "outputs": [],
   "source": [
    "def load_image_from_msg(msg):\n",
    "    im = np.frombuffer(msg.data, dtype=np.uint8).reshape(msg.height, msg.width, -1)\n",
    "    im = cv2.cvtColor(im, cv2.COLOR_BGR2RGB)\n",
    "    return im"
   ]
  },
  {
   "cell_type": "code",
   "execution_count": 19,
   "id": "a682851a-f1ce-47f0-b1f0-6f6c85f8227b",
   "metadata": {},
   "outputs": [],
   "source": [
    "def calc_trajectory(app:slampy.System, bag:rosbag.Bag, topics, cam_num=None):\n",
    "    positions = []\n",
    "    quaternions = []\n",
    "    raw_outputs = []\n",
    "    timestamps = []\n",
    "    \n",
    "    disp_current_frame_num = display('Frame num', display_id=True)\n",
    "    disp_current_state = display('Current state',display_id=True)\n",
    "    disp_conseq_ok = display('Consecutive ok frames',display_id=True)\n",
    "    disp_conseq__not_ok = display('Consecutive not ok frames',display_id=True)\n",
    "    disp_overall_ok = display('Overall ok frames',display_id=True)\n",
    "    disp_overall_not_ok = display('Overall not ok frames',display_id=True)\n",
    "    disp_current_pos = display('Current pos', display_id=True)\n",
    "    \n",
    "    current_frame_num = 0\n",
    "    conseq_ok = 0\n",
    "    conseq_not_ok = 1\n",
    "    overall_ok = 0\n",
    "    overall_not_ok = 0\n",
    "    \n",
    "    \n",
    "    for topic, msg, t in bag.read_messages(topics=topics):\n",
    "\n",
    "        current_frame_num += 1\n",
    "\n",
    "        im = load_image_from_msg(msg)\n",
    "        state = app.process_image_mono(im,t.to_sec() + timestamp_shift)\n",
    "\n",
    "        if state == slampy.State.OK:\n",
    "            conseq_not_ok = 0\n",
    "            conseq_ok += 1\n",
    "            overall_ok += 1\n",
    "\n",
    "            new_pose = app.get_pose_to_target()\n",
    "            # FIXED THIS GODDAMN XZY\n",
    "            # raw_p = new_pose[0:3, 3].flatten()[[0,2,1]]\n",
    "            raw_p = new_pose[0:3, 3].flatten()[[2,0,1]]\n",
    "            raw_r = R.from_quat(R.from_matrix(new_pose[:3, :3]).as_quat()[[2,0,1,3]])\n",
    "            if cam_num == None:\n",
    "                new_p = raw_p\n",
    "                new_r = raw_r\n",
    "            else:\n",
    "                new_p, new_r = calc_robot_position(shift_vecs, rot_quats, cam_num, raw_p, raw_r)\n",
    "            positions.append(new_p)\n",
    "            quaternions.append(new_r.as_quat())\n",
    "            raw_outputs.append(new_pose)\n",
    "            timestamps.append(t.to_nsec())\n",
    "            disp_current_pos.update(new_p)\n",
    "        else:\n",
    "            conseq_not_ok += 1\n",
    "            conseq_ok = 0\n",
    "            overall_not_ok += 1\n",
    "\n",
    "        disp_current_frame_num.update(\"Frame num: \" + str(current_frame_num))\n",
    "        disp_current_state.update(state)\n",
    "        disp_conseq_ok.update(\"Consecutive ok: \" + str(conseq_ok))\n",
    "        disp_conseq__not_ok.update(\"Consecutive not ok: \" + str(conseq_not_ok))\n",
    "        disp_overall_ok.update(\"Overall ok: \" + str(overall_ok))\n",
    "        disp_overall_not_ok.update(\"Overall not ok: \" + str(overall_not_ok))\n",
    "    print(\"Overall ok: \" + str(overall_ok))\n",
    "    print(\"Overall not ok: \" + str(overall_not_ok))\n",
    "    return positions, quaternions, raw_outputs, timestamps"
   ]
  },
  {
   "cell_type": "code",
   "execution_count": 20,
   "id": "627c398f-9f94-465d-9deb-4b6ef94694ca",
   "metadata": {},
   "outputs": [
    {
     "name": "stdout",
     "output_type": "stream",
     "text": [
      "the input sensor select is MONOCULAR\n"
     ]
    }
   ],
   "source": [
    "app = slampy.System(setting_file,slampy.Sensor.MONOCULAR)"
   ]
  },
  {
   "cell_type": "code",
   "execution_count": 21,
   "id": "ea742bd1-cd98-40bf-b5cc-7c5f3adb9b4d",
   "metadata": {},
   "outputs": [],
   "source": [
    "bag = rosbag.Bag(\"/hermesbot/datasets/with_lidar_20220609/cameras.bag\")"
   ]
  },
  {
   "cell_type": "raw",
   "id": "e294e463-b774-4e97-a61d-6c54737b7f0a",
   "metadata": {},
   "source": [
    "bag = rosbag.Bag(\"/hermesbot/datasets/with_lidar_20220610/2022-06-10-12-48-50.bag\")"
   ]
  },
  {
   "cell_type": "raw",
   "id": "4de85871-2d0c-4350-8ef4-50e51df6abe1",
   "metadata": {},
   "source": [
    "bag = rosbag.Bag(\"/hermesbot/datasets/with_lidar_20220609/small_loop.bag\")"
   ]
  },
  {
   "cell_type": "code",
   "execution_count": 34,
   "id": "c6a2e3ec-41fb-4bc6-a46e-4da524ce39a0",
   "metadata": {},
   "outputs": [],
   "source": [
    "app.reset()"
   ]
  },
  {
   "cell_type": "code",
   "execution_count": 38,
   "id": "6cfab85e-1518-4f91-b64d-cb53aac6d482",
   "metadata": {},
   "outputs": [],
   "source": [
    "import pickle"
   ]
  },
  {
   "cell_type": "code",
   "execution_count": 41,
   "id": "60669936-1e19-450a-b0ed-0b69c027d82e",
   "metadata": {},
   "outputs": [
    {
     "data": {
      "text/plain": [
       "'Frame num: 3814'"
      ]
     },
     "metadata": {},
     "output_type": "display_data"
    },
    {
     "data": {
      "text/plain": [
       "<State.LOST: 2>"
      ]
     },
     "metadata": {},
     "output_type": "display_data"
    },
    {
     "data": {
      "text/plain": [
       "'Consecutive ok: 0'"
      ]
     },
     "metadata": {},
     "output_type": "display_data"
    },
    {
     "data": {
      "text/plain": [
       "'Consecutive not ok: 1'"
      ]
     },
     "metadata": {},
     "output_type": "display_data"
    },
    {
     "data": {
      "text/plain": [
       "'Overall ok: 3177'"
      ]
     },
     "metadata": {},
     "output_type": "display_data"
    },
    {
     "data": {
      "text/plain": [
       "'Overall not ok: 637'"
      ]
     },
     "metadata": {},
     "output_type": "display_data"
    },
    {
     "data": {
      "text/plain": [
       "array([ 0.40842587,  0.8311356 , -0.02110698], dtype=float32)"
      ]
     },
     "metadata": {},
     "output_type": "display_data"
    },
    {
     "name": "stdout",
     "output_type": "stream",
     "text": [
      "Overall ok: 3177\n",
      "Overall not ok: 637\n"
     ]
    }
   ],
   "source": [
    "bag = rosbag.Bag(\"/hermesbot/new_20220609_thr95.bag\")\n",
    "app.reset()\n",
    "p, q, r, t = calc_trajectory(app, bag, topics='/camera/image_raw', cam_num=None)\n",
    "p_df = pd.DataFrame(np.array(p), columns=[\"x\", \"y\", \"z\"])\n",
    "r_df = pd.DataFrame(np.array(q), columns=[\"qx\", \"qy\", \"qz\", \"qw\"])\n",
    "t_df = pd.DataFrame(np.array(t), columns=[\"t\"])\n",
    "df = pd.concat((t_df, p_df, r_df), axis=1)\n",
    "fname = 'results/2022-06-09_orbslam2_concat_bag_nomap'\n",
    "df.to_csv(fname + '.csv', index=False)\n",
    "with open(fname + 'pickle', 'wb') as f:\n",
    "    pickle.dump(r, f)"
   ]
  },
  {
   "cell_type": "code",
   "execution_count": 42,
   "id": "d776e9ec-7885-4a5d-9e9a-79fbf23dfd5e",
   "metadata": {},
   "outputs": [],
   "source": [
    "bag = rosbag.Bag(\"/hermesbot/datasets/with_lidar_20220610/2022-06-10-12-48-50.bag\")"
   ]
  },
  {
   "cell_type": "code",
   "execution_count": 40,
   "id": "c8c476e6-af5e-4129-9f5a-842bb4d260dd",
   "metadata": {},
   "outputs": [
    {
     "data": {
      "text/plain": [
       "'Frame num: 3805'"
      ]
     },
     "metadata": {},
     "output_type": "display_data"
    },
    {
     "data": {
      "text/plain": [
       "<State.OK: 1>"
      ]
     },
     "metadata": {},
     "output_type": "display_data"
    },
    {
     "data": {
      "text/plain": [
       "'Consecutive ok: 2495'"
      ]
     },
     "metadata": {},
     "output_type": "display_data"
    },
    {
     "data": {
      "text/plain": [
       "'Consecutive not ok: 0'"
      ]
     },
     "metadata": {},
     "output_type": "display_data"
    },
    {
     "data": {
      "text/plain": [
       "'Overall ok: 2828'"
      ]
     },
     "metadata": {},
     "output_type": "display_data"
    },
    {
     "data": {
      "text/plain": [
       "'Overall not ok: 977'"
      ]
     },
     "metadata": {},
     "output_type": "display_data"
    },
    {
     "data": {
      "text/plain": [
       "array([ 0.33689211,  1.40528635, -0.03263374])"
      ]
     },
     "metadata": {},
     "output_type": "display_data"
    },
    {
     "name": "stdout",
     "output_type": "stream",
     "text": [
      "Overall ok: 2828\n",
      "Overall not ok: 977\n"
     ]
    },
    {
     "data": {
      "text/plain": [
       "'Frame num: 3805'"
      ]
     },
     "metadata": {},
     "output_type": "display_data"
    },
    {
     "data": {
      "text/plain": [
       "<State.OK: 1>"
      ]
     },
     "metadata": {},
     "output_type": "display_data"
    },
    {
     "data": {
      "text/plain": [
       "'Consecutive ok: 1051'"
      ]
     },
     "metadata": {},
     "output_type": "display_data"
    },
    {
     "data": {
      "text/plain": [
       "'Consecutive not ok: 0'"
      ]
     },
     "metadata": {},
     "output_type": "display_data"
    },
    {
     "data": {
      "text/plain": [
       "'Overall ok: 2330'"
      ]
     },
     "metadata": {},
     "output_type": "display_data"
    },
    {
     "data": {
      "text/plain": [
       "'Overall not ok: 1475'"
      ]
     },
     "metadata": {},
     "output_type": "display_data"
    },
    {
     "data": {
      "text/plain": [
       "array([ 0.21583205, -0.7429847 , -0.02304013])"
      ]
     },
     "metadata": {},
     "output_type": "display_data"
    },
    {
     "name": "stdout",
     "output_type": "stream",
     "text": [
      "Overall ok: 2330\n",
      "Overall not ok: 1475\n"
     ]
    },
    {
     "data": {
      "text/plain": [
       "'Frame num: 3806'"
      ]
     },
     "metadata": {},
     "output_type": "display_data"
    },
    {
     "data": {
      "text/plain": [
       "<State.OK: 1>"
      ]
     },
     "metadata": {},
     "output_type": "display_data"
    },
    {
     "data": {
      "text/plain": [
       "'Consecutive ok: 161'"
      ]
     },
     "metadata": {},
     "output_type": "display_data"
    },
    {
     "data": {
      "text/plain": [
       "'Consecutive not ok: 0'"
      ]
     },
     "metadata": {},
     "output_type": "display_data"
    },
    {
     "data": {
      "text/plain": [
       "'Overall ok: 941'"
      ]
     },
     "metadata": {},
     "output_type": "display_data"
    },
    {
     "data": {
      "text/plain": [
       "'Overall not ok: 2865'"
      ]
     },
     "metadata": {},
     "output_type": "display_data"
    },
    {
     "data": {
      "text/plain": [
       "array([-0.02425151, -1.29987967, -0.03869738])"
      ]
     },
     "metadata": {},
     "output_type": "display_data"
    },
    {
     "name": "stdout",
     "output_type": "stream",
     "text": [
      "Overall ok: 941\n",
      "Overall not ok: 2865\n"
     ]
    },
    {
     "data": {
      "text/plain": [
       "'Frame num: 3806'"
      ]
     },
     "metadata": {},
     "output_type": "display_data"
    },
    {
     "data": {
      "text/plain": [
       "<State.OK: 1>"
      ]
     },
     "metadata": {},
     "output_type": "display_data"
    },
    {
     "data": {
      "text/plain": [
       "'Consecutive ok: 184'"
      ]
     },
     "metadata": {},
     "output_type": "display_data"
    },
    {
     "data": {
      "text/plain": [
       "'Consecutive not ok: 0'"
      ]
     },
     "metadata": {},
     "output_type": "display_data"
    },
    {
     "data": {
      "text/plain": [
       "'Overall ok: 1119'"
      ]
     },
     "metadata": {},
     "output_type": "display_data"
    },
    {
     "data": {
      "text/plain": [
       "'Overall not ok: 2687'"
      ]
     },
     "metadata": {},
     "output_type": "display_data"
    },
    {
     "data": {
      "text/plain": [
       "array([-0.90988684, -0.98191703,  0.03046401])"
      ]
     },
     "metadata": {},
     "output_type": "display_data"
    },
    {
     "name": "stdout",
     "output_type": "stream",
     "text": [
      "Overall ok: 1119\n",
      "Overall not ok: 2687\n"
     ]
    },
    {
     "data": {
      "text/plain": [
       "'Frame num: 3806'"
      ]
     },
     "metadata": {},
     "output_type": "display_data"
    },
    {
     "data": {
      "text/plain": [
       "<State.OK: 1>"
      ]
     },
     "metadata": {},
     "output_type": "display_data"
    },
    {
     "data": {
      "text/plain": [
       "'Consecutive ok: 2418'"
      ]
     },
     "metadata": {},
     "output_type": "display_data"
    },
    {
     "data": {
      "text/plain": [
       "'Consecutive not ok: 0'"
      ]
     },
     "metadata": {},
     "output_type": "display_data"
    },
    {
     "data": {
      "text/plain": [
       "'Overall ok: 2721'"
      ]
     },
     "metadata": {},
     "output_type": "display_data"
    },
    {
     "data": {
      "text/plain": [
       "'Overall not ok: 1085'"
      ]
     },
     "metadata": {},
     "output_type": "display_data"
    },
    {
     "data": {
      "text/plain": [
       "array([-1.46401663,  1.16701798,  0.06524079])"
      ]
     },
     "metadata": {},
     "output_type": "display_data"
    },
    {
     "name": "stdout",
     "output_type": "stream",
     "text": [
      "Overall ok: 2721\n",
      "Overall not ok: 1085\n"
     ]
    },
    {
     "data": {
      "text/plain": [
       "'Frame num: 3805'"
      ]
     },
     "metadata": {},
     "output_type": "display_data"
    },
    {
     "data": {
      "text/plain": [
       "<State.OK: 1>"
      ]
     },
     "metadata": {},
     "output_type": "display_data"
    },
    {
     "data": {
      "text/plain": [
       "'Consecutive ok: 204'"
      ]
     },
     "metadata": {},
     "output_type": "display_data"
    },
    {
     "data": {
      "text/plain": [
       "'Consecutive not ok: 0'"
      ]
     },
     "metadata": {},
     "output_type": "display_data"
    },
    {
     "data": {
      "text/plain": [
       "'Overall ok: 2473'"
      ]
     },
     "metadata": {},
     "output_type": "display_data"
    },
    {
     "data": {
      "text/plain": [
       "'Overall not ok: 1332'"
      ]
     },
     "metadata": {},
     "output_type": "display_data"
    },
    {
     "data": {
      "text/plain": [
       "array([-0.39651296,  1.50268854, -0.02149578])"
      ]
     },
     "metadata": {},
     "output_type": "display_data"
    },
    {
     "name": "stdout",
     "output_type": "stream",
     "text": [
      "Overall ok: 2473\n",
      "Overall not ok: 1332\n"
     ]
    }
   ],
   "source": [
    "for cn in range(6):\n",
    "    app.reset()\n",
    "    p, q, r, t = calc_trajectory(app, bag, topics='/cam' + str(cn) + '/image_raw', cam_num=cn)\n",
    "    p_df = pd.DataFrame(np.array(p), columns=[\"x\", \"y\", \"z\"])\n",
    "    r_df = pd.DataFrame(np.array(q), columns=[\"qx\", \"qy\", \"qz\", \"qw\"])\n",
    "    t_df = pd.DataFrame(np.array(t), columns=[\"t\"])\n",
    "    df = pd.concat((t_df, p_df, r_df), axis=1)\n",
    "    fname = 'results/2022-06-09_orbslam2_cam' + str(cn) + '_nomap'\n",
    "    df.to_csv(fname + '.csv', index=False)\n",
    "    with open(fname + 'pickle', 'wb') as f:\n",
    "        pickle.dump(r, f)"
   ]
  },
  {
   "cell_type": "markdown",
   "id": "d78aa37e-7bd1-4205-8899-680e0d1ece43",
   "metadata": {},
   "source": [
    "#### Cam 0"
   ]
  },
  {
   "cell_type": "code",
   "execution_count": 26,
   "id": "531d67d8-ef72-40da-b5d2-3cc548f3d8f1",
   "metadata": {},
   "outputs": [
    {
     "data": {
      "image/png": "[encoded data removed]",
      "text/plain": [
       "<Figure size 432x288 with 1 Axes>"
      ]
     },
     "metadata": {
      "needs_background": "light"
     },
     "output_type": "display_data"
    }
   ],
   "source": [
    "plt.scatter([i[0] for i in p], [j[1] for j in p], s=0.1)\n",
    "plt.axis('equal')\n",
    "plt.show()"
   ]
  },
  {
   "cell_type": "markdown",
   "id": "b0dc8111-5425-4aeb-8ead-6395c1379832",
   "metadata": {},
   "source": [
    "#### Cam 1"
   ]
  },
  {
   "cell_type": "code",
   "execution_count": 29,
   "id": "c9757b76-e7d9-487d-9503-c52de3c394fa",
   "metadata": {},
   "outputs": [
    {
     "data": {
      "image/png": "[encoded data removed]",
      "text/plain": [
       "<Figure size 432x288 with 1 Axes>"
      ]
     },
     "metadata": {
      "needs_background": "light"
     },
     "output_type": "display_data"
    }
   ],
   "source": [
    "plt.scatter([i[0] for i in p], [j[1] for j in p], s=0.1)\n",
    "plt.axis('equal')\n",
    "plt.show()"
   ]
  },
  {
   "cell_type": "markdown",
   "id": "2b6669e4-d312-44f7-8b7f-38a560648ea2",
   "metadata": {},
   "source": [
    "#### Cam 2"
   ]
  },
  {
   "cell_type": "code",
   "execution_count": 33,
   "id": "faf4ca69-e7e1-4c30-ab98-96c050ec33a4",
   "metadata": {},
   "outputs": [
    {
     "data": {
      "image/png": "[encoded data removed]",
      "text/plain": [
       "<Figure size 432x288 with 1 Axes>"
      ]
     },
     "metadata": {
      "needs_background": "light"
     },
     "output_type": "display_data"
    }
   ],
   "source": [
    "plt.scatter([i[0] for i in p], [j[1] for j in p], s=0.1)\n",
    "plt.axis('equal')\n",
    "plt.show()"
   ]
  },
  {
   "cell_type": "markdown",
   "id": "19ab50d5-2b84-44a8-a813-cf961121ba32",
   "metadata": {},
   "source": [
    "#### Cam 3"
   ]
  },
  {
   "cell_type": "code",
   "execution_count": 36,
   "id": "48e47157-7b55-42d8-a0f4-4a49ee88be96",
   "metadata": {},
   "outputs": [
    {
     "data": {
      "image/png": "[encoded data removed]",
      "text/plain": [
       "<Figure size 432x288 with 1 Axes>"
      ]
     },
     "metadata": {
      "needs_background": "light"
     },
     "output_type": "display_data"
    }
   ],
   "source": [
    "plt.scatter([i[0] for i in p], [j[1] for j in p], s=0.1)\n",
    "plt.axis('equal')\n",
    "plt.show()"
   ]
  },
  {
   "cell_type": "code",
   "execution_count": 27,
   "id": "2b843ed0-ee60-4cd2-be0c-17f12dd64e00",
   "metadata": {},
   "outputs": [
    {
     "data": {
      "image/png": "[encoded data removed]",
      "text/plain": [
       "<Figure size 432x288 with 1 Axes>"
      ]
     },
     "metadata": {
      "needs_background": "light"
     },
     "output_type": "display_data"
    }
   ],
   "source": [
    "plt.plot([i[0] for i in p], [j[1] for j in p])\n",
    "plt.axis('equal')\n",
    "plt.show()"
   ]
  },
  {
   "cell_type": "code",
   "execution_count": 24,
   "id": "653c3edc-c669-4046-b7dc-0b85d26ca556",
   "metadata": {},
   "outputs": [
    {
     "data": {
      "text/plain": [
       "array([-3.56030028e-01,  9.03248850e-02, -7.05561913e-06])"
      ]
     },
     "execution_count": 24,
     "metadata": {},
     "output_type": "execute_result"
    }
   ],
   "source": [
    "p[0]"
   ]
  },
  {
   "cell_type": "code",
   "execution_count": 25,
   "id": "ce759708-132f-4382-ad94-aa603ef7c1e8",
   "metadata": {},
   "outputs": [
    {
     "data": {
      "text/plain": [
       "array([[ 9.9999869e-01,  1.3735377e-04,  1.5927521e-03,  1.8728809e-02],\n",
       "       [-1.3754267e-04,  9.9999994e-01,  1.1848669e-04, -5.9473229e-04],\n",
       "       [-1.5927358e-03, -1.1870561e-04,  9.9999869e-01,  1.2493339e-02],\n",
       "       [ 0.0000000e+00,  0.0000000e+00,  0.0000000e+00,  1.0000000e+00]],\n",
       "      dtype=float32)"
      ]
     },
     "execution_count": 25,
     "metadata": {},
     "output_type": "execute_result"
    }
   ],
   "source": [
    "r[0]"
   ]
  },
  {
   "cell_type": "code",
   "execution_count": null,
   "id": "82728319-1305-4a17-a83c-71f0fcfd5228",
   "metadata": {},
   "outputs": [],
   "source": []
  }
 ],
 "metadata": {
  "kernelspec": {
   "display_name": "Python 3",
   "language": "python",
   "name": "python3"
  },
  "language_info": {
   "codemirror_mode": {
    "name": "ipython",
    "version": 3
   },
   "file_extension": ".py",
   "mimetype": "text/x-python",
   "name": "python",
   "nbconvert_exporter": "python",
   "pygments_lexer": "ipython3",
   "version": "3.8.9"
  }
 },
 "nbformat": 4,
 "nbformat_minor": 5
}
