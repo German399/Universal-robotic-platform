{
 "cells": [
  {
   "cell_type": "code",
   "execution_count": 1,
   "metadata": {},
   "outputs": [],
   "source": [
    "import slampy\n",
    "import cv2\n",
    "import numpy as np\n",
    "from utils import *\n",
    "import pandas as pd\n",
    "import matplotlib.pyplot as plt\n",
    "import time\n",
    "import os\n",
    "from tqdm import tqdm\n",
    "from trajectory_drawer import TrajectoryDrawer\n",
    "\n",
    "%matplotlib notebook"
   ]
  },
  {
   "cell_type": "code",
   "execution_count": 2,
   "metadata": {},
   "outputs": [
    {
     "name": "stdout",
     "output_type": "stream",
     "text": [
      "the input sensor select is MONOCULAR\n"
     ]
    }
   ],
   "source": [
    "setting_file ='settings.yaml'\n",
    "app = slampy.System(setting_file,slampy.Sensor.MONOCULAR)"
   ]
  },
  {
   "cell_type": "code",
   "execution_count": null,
   "metadata": {},
   "outputs": [
    {
     "name": "stderr",
     "output_type": "stream",
     "text": [
      " 70%|███████   | 2009/2867 [01:08<00:23, 36.65it/s]"
     ]
    }
   ],
   "source": [
    "cap = cv2.VideoCapture('Dataset/amz_1.mp4')\n",
    "timestamp = 0\n",
    "fps = cap.get(cv2.CAP_PROP_FPS)\n",
    "delta_ts=1/fps\n",
    "idx=0\n",
    "total = int(cap.get(cv2.CAP_PROP_FRAME_COUNT))\n",
    "arr_pos = []\n",
    "with tqdm(total=total) as pbar:\n",
    "    while cap.isOpened():\n",
    "        _,image = cap.read()\n",
    "        timestamp +=delta_ts \n",
    "        if image is None:\n",
    "            break\n",
    "        image = cv2.cvtColor(image, cv2.COLOR_BGR2RGB)\n",
    "        image = image[:-250,:,:]\n",
    "        #print(image.shape)\n",
    "        t1 = time.time()\n",
    "        state = app.process_image_mono(image,timestamp)\n",
    "        t2 = time.time()\n",
    "        if state == slampy.State.OK:\n",
    "            pose = app.get_pose_to_target()[0:3, 3].flatten()\n",
    "            arr_pos.append(pose)\n",
    "        idx+=1\n",
    "        if idx > fps*37:\n",
    "            break\n",
    "        pbar.update(1)\n",
    "        ttrack = t2 - t1\n",
    "        if ttrack < delta_ts:\n",
    "            time.sleep(delta_ts - ttrack)\n",
    "cap.release()"
   ]
  },
  {
   "cell_type": "code",
   "execution_count": null,
   "metadata": {},
   "outputs": [],
   "source": [
    "#print(arr_pos)\n",
    "arr_pos = np.array(arr_pos)\n",
    "plt.scatter(x=arr_pos[...,2],y=arr_pos[...,0])"
   ]
  },
  {
   "cell_type": "code",
   "execution_count": null,
   "metadata": {},
   "outputs": [],
   "source": []
  }
 ],
 "metadata": {
  "kernelspec": {
   "display_name": "Python 3",
   "language": "python",
   "name": "python3"
  },
  "language_info": {
   "codemirror_mode": {
    "name": "ipython",
    "version": 3
   },
   "file_extension": ".py",
   "mimetype": "text/x-python",
   "name": "python",
   "nbconvert_exporter": "python",
   "pygments_lexer": "ipython3",
   "version": "3.8.5"
  }
 },
 "nbformat": 4,
 "nbformat_minor": 4
}
