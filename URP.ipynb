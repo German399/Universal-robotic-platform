{
 "cells": [
  {
   "cell_type": "code",
   "execution_count": 1,
   "id": "321891e2-7634-4749-9307-a8863d8bdb5c",
   "metadata": {
    "tags": []
   },
   "outputs": [
    {
     "name": "stderr",
     "output_type": "stream",
     "text": [
      "Failed to load Python extension for LZ4 support. LZ4 compression will not be available.\n"
     ]
    }
   ],
   "source": [
    "import slampy\n",
    "import cv2\n",
    "import numpy as np\n",
    "from utils import *\n",
    "import pandas as pd\n",
    "import matplotlib.pyplot as plt\n",
    "import time\n",
    "import os\n",
    "import rosbag\n",
    "import numpy as np\n",
    "from IPython.display import clear_output, display\n",
    "from tqdm.notebook import tqdm\n",
    "%matplotlib inline"
   ]
  },
  {
   "cell_type": "code",
   "execution_count": 2,
   "id": "b4496cf5-2f27-4e17-a35e-90fc1821d7f8",
   "metadata": {},
   "outputs": [],
   "source": [
    "# image_folder = 'Dataset/KITTI_RAW/2011_09_26/2011_09_26_drive_0001_sync/image_02/'\n",
    "setting_file ='settings.yaml'"
   ]
  },
  {
   "cell_type": "code",
   "execution_count": 3,
   "id": "8c31a6db-a48d-4cbc-80fd-ef760d3f0b2f",
   "metadata": {},
   "outputs": [
    {
     "name": "stdout",
     "output_type": "stream",
     "text": [
      "the input sensor select is MONOCULAR\n"
     ]
    }
   ],
   "source": [
    "app = slampy.System(setting_file,slampy.Sensor.MONOCULAR)"
   ]
  },
  {
   "cell_type": "markdown",
   "id": "ba1cd2bd-8b37-42b9-9a1b-83dd1bdb0b7e",
   "metadata": {},
   "source": [
    "### Calculate trajectory from raw rosbag"
   ]
  },
  {
   "cell_type": "code",
   "execution_count": 5,
   "id": "d6e7a094-153d-4cc5-899c-065337e36d5c",
   "metadata": {},
   "outputs": [
    {
     "name": "stdout",
     "output_type": "stream",
     "text": [
      "Defaulting to user installation because normal site-packages is not writeable\n",
      "Collecting scipy\n",
      "  Downloading scipy-1.8.1-cp38-cp38-manylinux_2_17_x86_64.manylinux2014_x86_64.whl (41.6 MB)\n",
      "\u001b[K     |████████████████████████████████| 41.6 MB 2.6 MB/s eta 0:00:01\n",
      "\u001b[?25hRequirement already satisfied: numpy<1.25.0,>=1.17.3 in /usr/local/lib/python3.8/dist-packages (from scipy) (1.20.2)\n",
      "Installing collected packages: scipy\n",
      "Successfully installed scipy-1.8.1\n",
      "\u001b[33mWARNING: You are using pip version 21.0.1; however, version 22.1.2 is available.\n",
      "You should consider upgrading via the '/usr/bin/python3 -m pip install --upgrade pip' command.\u001b[0m\n"
     ]
    }
   ],
   "source": [
    "!pip3 install scipy"
   ]
  },
  {
   "cell_type": "code",
   "execution_count": 6,
   "id": "fa68d8b6-b410-4d5e-8316-55e7b5bc68a1",
   "metadata": {},
   "outputs": [],
   "source": [
    "from scipy.spatial.transform import Rotation as R\n",
    "def load_image_from_msg(msg):\n",
    "    im = np.frombuffer(msg.data, dtype=np.uint8).reshape(msg.height, msg.width, -1)\n",
    "    im = cv2.cvtColor(im, cv2.COLOR_BGR2RGB)\n",
    "    return im\n",
    "\n",
    "\n",
    "def calc_trajectory_orb3(app:slampy.System, bag:rosbag.Bag, topic:str, reset_after_lost=False):\n",
    "    positions = []\n",
    "    quaternions = []\n",
    "    matrices = []\n",
    "    \n",
    "    disp_current_frame_num = display('Frame num', display_id=True)\n",
    "    disp_current_state = display('Current state',display_id=True)\n",
    "    disp_conseq_ok = display('Consecutive ok frames',display_id=True)\n",
    "    disp_conseq__not_ok = display('Consecutive not ok frames',display_id=True)\n",
    "    disp_overall_ok = display('Overall ok frames',display_id=True)\n",
    "    disp_overall_not_ok = display('Overall not ok frames',display_id=True)\n",
    "    \n",
    "    current_frame_num = 0\n",
    "    conseq_ok = 0\n",
    "    conseq_not_ok = 1\n",
    "    overall_ok = 0\n",
    "    overall_not_ok = 0\n",
    "    \n",
    "    last_known_pos = np.array([0,0,0])\n",
    "    last_known_rot = R.from_quat(np.array([0,0,0,1]))\n",
    "    \n",
    "    for topic, msg, t in bag.read_messages(topics=[topic]):\n",
    "        im = load_image_from_msg(msg)\n",
    "        state = app.process_image_mono(im,t.to_sec())\n",
    "        \n",
    "        current_frame_num += 1\n",
    "        \n",
    "        if state == slampy.State.OK:\n",
    "            conseq_not_ok = 0\n",
    "            conseq_ok += 1\n",
    "            overall_ok += 1\n",
    "            \n",
    "            new_pose = app.get_pose_to_target()\n",
    "            pose_coordinates = new_pose[0:3, 3].flatten()\n",
    "            pose_rotation = R.from_matrix(new_pose[:3, :3])\n",
    "            \n",
    "            pose_coordinates = last_known_rot.apply(pose_coordinates)\n",
    "            pose_coordinates += last_known_pos\n",
    "            \n",
    "            pose_rotation = pose_rotation * last_known_rot\n",
    "            pose_quaternion = pose_rotation.as_quat()\n",
    "            \n",
    "            positions.append(pose_coordinates)\n",
    "            quaternions.append(pose_quaternion)\n",
    "            matrices.append(new_pose)\n",
    "        else:\n",
    "            if conseq_not_ok == 0 and reset_after_lost:\n",
    "                app.reset()\n",
    "                last_known_pos = positions[-1]\n",
    "                last_known_rot = R.from_quat(quaternions[-1])\n",
    "            conseq_not_ok += 1\n",
    "            conseq_ok = 0\n",
    "            overall_not_ok += 1\n",
    "        \n",
    "        disp_current_frame_num.update(\"Frame num: \" + str(current_frame_num))\n",
    "        disp_current_state.update(state)\n",
    "        disp_conseq_ok.update(\"Consecutive ok: \" + str(conseq_ok))\n",
    "        disp_conseq__not_ok.update(\"Consecutive not ok: \" + str(conseq_not_ok))\n",
    "        disp_overall_ok.update(\"Overall ok: \" + str(overall_ok))\n",
    "        disp_overall_not_ok.update(\"Overall not ok: \" + str(overall_not_ok))\n",
    "        \n",
    "    return positions, quaternions"
   ]
  },
  {
   "cell_type": "raw",
   "id": "c02ec4f7-1ae2-42a6-b5ea-a73e4240373f",
   "metadata": {},
   "source": [
    "bag = rosbag.Bag(\"/hermesbot/datasets/with_lidar_20220609/cameras.bag\", 'r')\n",
    "coords, quats = calc_trajectory_orb3(app, bag, topic=\"/cam0/image_raw\", reset_after_lost=True)\n",
    "\n",
    "plt.plot([i[0] for i in coords], [j[1] for j in coords])\n",
    "plt.show()"
   ]
  },
  {
   "cell_type": "raw",
   "id": "aae005a2-0235-48ee-b10c-225023fe3f22",
   "metadata": {},
   "source": [
    "bag = rosbag.Bag(\"/hermesbot/datasets/with_lidar_20220609/cameras.bag\", 'r')\n",
    "coords, quats = calc_trajectory_orb3(app, bag, topic=\"/cam0/image_raw\", reset_after_lost=False)\n",
    "\n",
    "plt.plot([i[0] for i in coords], [j[1] for j in coords])\n",
    "plt.show()"
   ]
  },
  {
   "cell_type": "markdown",
   "id": "82765860-cfe0-4808-a0ed-7fcb1fd37b3a",
   "metadata": {},
   "source": [
    "### Calculate trajectory from rosbag and NN results"
   ]
  },
  {
   "cell_type": "code",
   "execution_count": 7,
   "id": "e5d7b801-ca46-4659-8a70-f7869ddf20b3",
   "metadata": {},
   "outputs": [],
   "source": [
    "from numpy import sin, cos, pi\n",
    "# Shift vectors from camera to robot center\n",
    "shift_vecs = [\n",
    "    np.array([-37.477 / 100, 7.778 / 100, 0]),\n",
    "    np.array([-37.477 / 100, -7.778 / 100, 0]),\n",
    "    np.array([-21. / 100, 0, 0]),\n",
    "    np.array([-37.477 / 100, 7.778 / 100, 0]),\n",
    "    np.array([-37.477 / 100, -7.778 / 100, 0]),\n",
    "    np.array([-21. / 100, 0, 0])\n",
    "]\n",
    "# Rotation quaternions from camera to lidar frame\n",
    "rot_quats = [\n",
    "    R.from_quat([0, 0, sin(-pi/8), cos(-pi/8)]),\n",
    "    R.from_quat([0, 0, sin(pi/8), cos(pi/8)]),\n",
    "    R.from_quat([0, 0, sin(pi/4), cos(pi/4)]),\n",
    "    R.from_quat([0, 0, sin(3*pi/8), cos(3*pi/8)]),\n",
    "    R.from_quat([0, 0, sin(-3*pi/8), cos(-3*pi/8)]),\n",
    "    R.from_quat([0, 0, sin(-pi/4), cos(-pi/4)])\n",
    "]"
   ]
  },
  {
   "cell_type": "code",
   "execution_count": 8,
   "id": "fd9b044f-5f57-4aaa-ae11-a3bb18bf30d2",
   "metadata": {},
   "outputs": [],
   "source": [
    "# Calculate position and orientation of robot given the pos and orientation of single camera\n",
    "def calc_robot_position(sv, rq, cam_num, pos, quat):\n",
    "    robot_shift_vec = quat.apply(sv[cam_num])\n",
    "    new_quat = quat * rq[cam_num]\n",
    "    robot_pos = pos + robot_shift_vec\n",
    "    return robot_pos, new_quat\n",
    "\n",
    "# Calculate position and orientation of any camera given the pos and orientation of robot\n",
    "def calc_cam_position(sv, rq, cam_num, pos, quat):\n",
    "    new_quat = rq[cam_num].inv() * quat\n",
    "    cam_shift_vec = new_quat.apply(sv[cam_num])\n",
    "    cam_pos = pos - cam_shift_vec\n",
    "    # cam_pos = pos\n",
    "    return cam_pos, new_quat"
   ]
  },
  {
   "cell_type": "code",
   "execution_count": 17,
   "id": "deb7e9ae-28f4-4551-8420-0dcd6942f081",
   "metadata": {},
   "outputs": [],
   "source": [
    "def calc_trajectory_orb3_combined(app:slampy.System, bag:rosbag.Bag, frames_df, reset_after_lost=False):\n",
    "    positions = []\n",
    "    quaternions = []\n",
    "    raw_outputs = []\n",
    "    timestamps = []\n",
    "    \n",
    "    disp_current_frame_num = display('Frame num', display_id=True)\n",
    "    disp_current_state = display('Current state',display_id=True)\n",
    "    disp_conseq_ok = display('Consecutive ok frames',display_id=True)\n",
    "    disp_conseq__not_ok = display('Consecutive not ok frames',display_id=True)\n",
    "    disp_overall_ok = display('Overall ok frames',display_id=True)\n",
    "    disp_overall_not_ok = display('Overall not ok frames',display_id=True)\n",
    "    disp_camera_num = display('Camera number',display_id=True)\n",
    "    \n",
    "    current_frame_num = 0\n",
    "    conseq_ok = 0\n",
    "    conseq_not_ok = 1\n",
    "    overall_ok = 0\n",
    "    overall_not_ok = 0\n",
    "    \n",
    "    last_known_robot_pos = np.array([0,0,0])\n",
    "    last_known_robot_rot = R.from_rotvec(np.array([0,0,0]))\n",
    "    \n",
    "    for topic, msg, t in bag.read_messages(topics=[\"/cam0/image_raw\",\n",
    "                                                   \"/cam1/image_raw\",\n",
    "                                                   \"/cam2/image_raw\",\n",
    "                                                   \"/cam3/image_raw\",\n",
    "                                                   \"/cam4/image_raw\",\n",
    "                                                   \"/cam5/image_raw\",]):\n",
    "        cam_num = int(topic[4])\n",
    "        t_nsec = str(t.to_nsec())\n",
    "        if ((frames_df['cam'] == cam_num) & (frames_df['tstamp'] == t_nsec)).any():\n",
    "            \n",
    "            im = load_image_from_msg(msg)\n",
    "            state = app.process_image_mono(im,t.to_sec())\n",
    "\n",
    "            current_frame_num += 1\n",
    "\n",
    "            if state == slampy.State.OK:\n",
    "                conseq_not_ok = 0\n",
    "                conseq_ok += 1\n",
    "                overall_ok += 1\n",
    "\n",
    "                new_pose = app.get_pose_to_target()\n",
    "                pose_coordinates = new_pose[0:3, 3].flatten()\n",
    "                pose_rotation = R.from_matrix(new_pose[:3, :3])\n",
    "                \n",
    "                last_known_cam_pos, last_known_cam_rot = calc_cam_position(shift_vecs, rot_quats, cam_num, last_known_robot_pos, last_known_robot_rot)\n",
    "                new_shift_vec = last_known_cam_rot.apply(pose_coordinates)\n",
    "                new_cam_pos = new_shift_vec + last_known_cam_pos\n",
    "                new_cam_rot = last_known_cam_rot * pose_rotation\n",
    "                new_robot_pos, new_robot_rot = calc_robot_position(shift_vecs, rot_quats, 0, new_cam_pos, new_cam_rot)\n",
    "                \n",
    "#                 last_known_cam_pos, last_known_cam_rot = calc_cam_position(shift_vecs, rot_quats, cam_num, last_known_pos, last_known_rot)\n",
    "                \n",
    "#                 pose_coordinates = last_known_cam_rot.apply(pose_coordinates)\n",
    "#                 pose_coordinates += last_known_cam_pos\n",
    "                \n",
    "#                 pose_rotation = pose_rotation * last_known_cam_rot\n",
    "                \n",
    "#                 pose_coordinates, pose_rotation = calc_robot_position(shift_vecs, rot_quats, cam_num, pose_coordinates, pose_rotation)\n",
    "                \n",
    "                new_robot_quat = new_robot_rot.as_quat()\n",
    "\n",
    "                positions.append(new_robot_pos)\n",
    "                quaternions.append(new_robot_quat)\n",
    "                raw_outputs.append(new_pose)\n",
    "                timestamps.append(t.to_nsec())\n",
    "            else:\n",
    "                if conseq_not_ok == 0 and reset_after_lost:\n",
    "                    app.reset()\n",
    "                    last_known_robot_pos = positions[-1]\n",
    "                    last_known_robot_rot = R.from_quat(quaternions[-1])\n",
    "                conseq_not_ok += 1\n",
    "                conseq_ok = 0\n",
    "                overall_not_ok += 1\n",
    "\n",
    "            disp_current_frame_num.update(\"Frame num: \" + str(current_frame_num))\n",
    "            disp_current_state.update(state)\n",
    "            disp_conseq_ok.update(\"Consecutive ok: \" + str(conseq_ok))\n",
    "            disp_conseq__not_ok.update(\"Consecutive not ok: \" + str(conseq_not_ok))\n",
    "            disp_overall_ok.update(\"Overall ok: \" + str(overall_ok))\n",
    "            disp_overall_not_ok.update(\"Overall not ok: \" + str(overall_not_ok))\n",
    "            disp_camera_num.update(\"Camera number: \" + str(cam_num))\n",
    "    print(\"Overall ok: \" + str(overall_ok))\n",
    "    print(\"Overall not ok: \" + str(overall_not_ok))\n",
    "    return positions, quaternions"
   ]
  },
  {
   "cell_type": "code",
   "execution_count": 18,
   "id": "76b9771d-e9a5-4541-bdf3-efc7fb5e3724",
   "metadata": {},
   "outputs": [],
   "source": [
    "def calculate_combined_data(cam_outputs:list, threshold=0.3, conseq_frames=10, data_col_name='output'):\n",
    "    cams = []\n",
    "    indices = []\n",
    "    tstamps = []\n",
    "    first_res = [i.iloc[0][data_col_name] for i in cam_outputs]\n",
    "    current_cam = first_res.index(max(first_res))\n",
    "    current_index = -1\n",
    "    current_res = 0\n",
    "    prone_to_change = 0\n",
    "    while True:\n",
    "        cams.append(current_cam)\n",
    "        indices.append(current_index)\n",
    "        tstamps.append(cam_outputs[current_cam].iloc[current_index]['nsecs_str'])\n",
    "        try:\n",
    "            current_index += 1\n",
    "            current_df = cam_outputs[current_cam].iloc[current_index]\n",
    "        except IndexError:\n",
    "            break\n",
    "        if current_df[data_col_name] < threshold:\n",
    "            if prone_to_change < conseq_frames:\n",
    "                prone_to_change += 1\n",
    "            else:\n",
    "                next_indices = [upper_neighbor(i, current_df.nsecs, 'nsecs') for i in cam_outputs]\n",
    "                next_dfs = [cam_outputs[i].iloc[next_indices[i]] for i in range(len(cam_outputs))]\n",
    "                next_outputs = [i.output for i in next_dfs]\n",
    "                next_best_cam = next_outputs.index(max(next_outputs))\n",
    "                if not current_cam == next_best_cam:\n",
    "                    current_cam = next_best_cam\n",
    "                    current_index = next_indices[next_best_cam] - 1\n",
    "                prone_to_change = 0\n",
    "        else:\n",
    "            prone_to_change = max([0, prone_to_change - 1])\n",
    "    \n",
    "    combined_data = pd.DataFrame()\n",
    "    combined_data[\"cam\"] = cams\n",
    "    combined_data[\"tstamp\"] = tstamps\n",
    "    return combined_data"
   ]
  },
  {
   "cell_type": "code",
   "execution_count": 19,
   "id": "e0ed361d-a99a-4d98-8237-bffb3dcfab1b",
   "metadata": {},
   "outputs": [],
   "source": [
    "def upper_neighbor(df, value, colname):\n",
    "    return df[df[colname] > value][colname].idxmin()"
   ]
  },
  {
   "cell_type": "raw",
   "id": "0f486304-82d4-4e4e-98eb-856c6f756449",
   "metadata": {
    "tags": []
   },
   "source": [
    "files = [\"orb-classification/notebooks/outputs/regressor/2022-06-09/cam0.csv\",\n",
    "         \"orb-classification/notebooks/outputs/regressor/2022-06-09/cam1.csv\",\n",
    "         \"orb-classification/notebooks/outputs/regressor/2022-06-09/cam2.csv\",\n",
    "         \"orb-classification/notebooks/outputs/regressor/2022-06-09/cam3.csv\",\n",
    "         \"orb-classification/notebooks/outputs/regressor/2022-06-09/cam4.csv\",\n",
    "         \"orb-classification/notebooks/outputs/regressor/2022-06-09/cam5.csv\"]\n",
    "c = []\n",
    "for f in files:\n",
    "    c.append(pd.read_csv(f, header=0))\n",
    "for current_c in c:\n",
    "    current_c['nsecs_str'] = current_c.nsecs.astype(str)\n",
    "\n",
    "combined_data = calculate_combined_data(c, threshold=0.95)\n",
    "bag = rosbag.Bag(\"/hermesbot/datasets/with_lidar_20220609/cameras.bag\", 'r')"
   ]
  },
  {
   "cell_type": "code",
   "execution_count": 20,
   "id": "474ed06f-d185-449e-a924-f91a374602ed",
   "metadata": {},
   "outputs": [],
   "source": [
    "files = [\"orb-classification/notebooks/outputs/regressor/2022-06-10/cam0.csv\",\n",
    "         \"orb-classification/notebooks/outputs/regressor/2022-06-10/cam1.csv\",\n",
    "         \"orb-classification/notebooks/outputs/regressor/2022-06-10/cam2.csv\",\n",
    "         \"orb-classification/notebooks/outputs/regressor/2022-06-10/cam3.csv\",\n",
    "         \"orb-classification/notebooks/outputs/regressor/2022-06-10/cam4.csv\",\n",
    "         \"orb-classification/notebooks/outputs/regressor/2022-06-10/cam5.csv\"]\n",
    "c = []\n",
    "for f in files:\n",
    "    c.append(pd.read_csv(f, header=0))\n",
    "for current_c in c:\n",
    "    current_c['nsecs_str'] = current_c.nsecs.astype(str)\n",
    "\n",
    "combined_data = calculate_combined_data(c, threshold=0.3)\n",
    "bag = rosbag.Bag(\"/hermesbot/datasets/with_lidar_20220610/2022-06-10-12-48-50.bag\", 'r')"
   ]
  },
  {
   "cell_type": "code",
   "execution_count": 21,
   "id": "4b2434ac-71bb-443f-830f-ad56551df2ea",
   "metadata": {},
   "outputs": [
    {
     "data": {
      "text/plain": [
       "'Frame num: 15360'"
      ]
     },
     "metadata": {},
     "output_type": "display_data"
    },
    {
     "data": {
      "text/plain": [
       "<State.LOST: 2>"
      ]
     },
     "metadata": {},
     "output_type": "display_data"
    },
    {
     "data": {
      "text/plain": [
       "'Consecutive ok: 0'"
      ]
     },
     "metadata": {},
     "output_type": "display_data"
    },
    {
     "data": {
      "text/plain": [
       "'Consecutive not ok: 1'"
      ]
     },
     "metadata": {},
     "output_type": "display_data"
    },
    {
     "data": {
      "text/plain": [
       "'Overall ok: 12241'"
      ]
     },
     "metadata": {},
     "output_type": "display_data"
    },
    {
     "data": {
      "text/plain": [
       "'Overall not ok: 3119'"
      ]
     },
     "metadata": {},
     "output_type": "display_data"
    },
    {
     "data": {
      "text/plain": [
       "'Camera number: 3'"
      ]
     },
     "metadata": {},
     "output_type": "display_data"
    },
    {
     "name": "stdout",
     "output_type": "stream",
     "text": [
      "Overall ok: 12241\n",
      "Overall not ok: 3119\n"
     ]
    }
   ],
   "source": [
    "p, q = calc_trajectory_orb3_combined(app, bag, combined_data, reset_after_lost=True)"
   ]
  },
  {
   "cell_type": "code",
   "execution_count": 22,
   "id": "3c76ce6d-083a-460a-b5c8-39a7be1000f9",
   "metadata": {},
   "outputs": [
    {
     "data": {
      "image/png": "[encoded data removed]",
      "text/plain": [
       "<Figure size 432x288 with 1 Axes>"
      ]
     },
     "metadata": {
      "needs_background": "light"
     },
     "output_type": "display_data"
    }
   ],
   "source": [
    "plt.plot([i[0] for i in p], [j[1] for j in p])\n",
    "plt.axis('equal')\n",
    "plt.show()"
   ]
  },
  {
   "cell_type": "code",
   "execution_count": null,
   "id": "ff2161a1-6da8-44fe-9dc1-a0f0acc62d9c",
   "metadata": {},
   "outputs": [
    {
     "data": {
      "text/plain": [
       "'Frame num: 14803'"
      ]
     },
     "metadata": {},
     "output_type": "display_data"
    },
    {
     "data": {
      "text/plain": [
       "<State.OK: 1>"
      ]
     },
     "metadata": {},
     "output_type": "display_data"
    },
    {
     "data": {
      "text/plain": [
       "'Consecutive ok: 318'"
      ]
     },
     "metadata": {},
     "output_type": "display_data"
    },
    {
     "data": {
      "text/plain": [
       "'Consecutive not ok: 0'"
      ]
     },
     "metadata": {},
     "output_type": "display_data"
    },
    {
     "data": {
      "text/plain": [
       "'Overall ok: 8893'"
      ]
     },
     "metadata": {},
     "output_type": "display_data"
    },
    {
     "data": {
      "text/plain": [
       "'Overall not ok: 5910'"
      ]
     },
     "metadata": {},
     "output_type": "display_data"
    }
   ],
   "source": [
    "app.reset()\n",
    "p1, q1 = calc_trajectory_orb3(app, bag, \"/cam0/image_raw\", reset_after_lost=True)"
   ]
  },
  {
   "cell_type": "code",
   "execution_count": null,
   "id": "abf5541a-8608-4abe-901b-a6114696353e",
   "metadata": {},
   "outputs": [],
   "source": []
  }
 ],
 "metadata": {
  "kernelspec": {
   "display_name": "Python 3",
   "language": "python",
   "name": "python3"
  },
  "language_info": {
   "codemirror_mode": {
    "name": "ipython",
    "version": 3
   },
   "file_extension": ".py",
   "mimetype": "text/x-python",
   "name": "python",
   "nbconvert_exporter": "python",
   "pygments_lexer": "ipython3",
   "version": "3.8.9"
  }
 },
 "nbformat": 4,
 "nbformat_minor": 5
}
