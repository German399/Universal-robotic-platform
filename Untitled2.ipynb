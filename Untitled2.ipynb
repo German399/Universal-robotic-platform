{
 "cells": [
  {
   "cell_type": "code",
   "execution_count": 1,
   "metadata": {},
   "outputs": [],
   "source": [
    "import os\n",
    "from PIL import Image as pil\n",
    "import cv2\n",
    "import numpy as np\n",
    "from tqdm import tqdm\n",
    "num = 50"
   ]
  },
  {
   "cell_type": "code",
   "execution_count": 2,
   "metadata": {},
   "outputs": [
    {
     "name": "stderr",
     "output_type": "stream",
     "text": [
      "100%|██████████| 2407/2407 [00:13<00:00, 179.21it/s]\n"
     ]
    }
   ],
   "source": [
    "path = '/media/giordanolaminetti/dataset/TUM_50/val_selection_cropped/slam/'\n",
    "for filename in tqdm(os.listdir(path)):\n",
    "    filename_path = os.path.join(path,filename)\n",
    "    depth = np.array(pil.open(filename_path))\n",
    "    if (depth>0).sum() >50:\n",
    "        index = np.argwhere(depth>0)\n",
    "        new_depth= np.zeros(depth.shape)\n",
    "        np.random.shuffle(index)\n",
    "        for el in index[:50]:\n",
    "            new_depth[el[0],el[1]]=depth[el[0],el[1]]\n",
    "        cv2.imwrite(filename_path, new_depth.astype(np.uint16))\n",
    "    "
   ]
  },
  {
   "cell_type": "code",
   "execution_count": 3,
   "metadata": {},
   "outputs": [
    {
     "name": "stderr",
     "output_type": "stream",
     "text": [
      "100%|██████████| 2407/2407 [00:07<00:00, 313.45it/s]\n"
     ]
    }
   ],
   "source": [
    "path = '/media/giordanolaminetti/dataset/TUM_50/val_selection_cropped/slam/'\n",
    "for filename in tqdm(os.listdir(path)):\n",
    "    filename_path = os.path.join(path,filename)\n",
    "    depth = np.array(pil.open(filename_path))\n",
    "    if (depth>0).sum() >50:\n",
    "        print(\"err\")"
   ]
  }
 ],
 "metadata": {
  "kernelspec": {
   "display_name": "Python 3",
   "language": "python",
   "name": "python3"
  },
  "language_info": {
   "codemirror_mode": {
    "name": "ipython",
    "version": 3
   },
   "file_extension": ".py",
   "mimetype": "text/x-python",
   "name": "python",
   "nbconvert_exporter": "python",
   "pygments_lexer": "ipython3",
   "version": "3.8.5"
  }
 },
 "nbformat": 4,
 "nbformat_minor": 4
}
